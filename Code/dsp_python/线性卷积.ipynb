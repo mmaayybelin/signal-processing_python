{
 "cells": [
  {
   "cell_type": "markdown",
   "id": "fb9ebfb0",
   "metadata": {},
   "source": [
    "# 线性卷积"
   ]
  },
  {
   "cell_type": "markdown",
   "id": "ed9ceff7",
   "metadata": {},
   "source": [
    "求序列x=\\[3,11,7,0,-11,4,2\\]和h=\\[2,3,0,-5,2,1\\]的线性卷积。"
   ]
  },
  {
   "cell_type": "code",
   "execution_count": 2,
   "id": "68e7198b",
   "metadata": {},
   "outputs": [
    {
     "data": {
      "image/png": "[encoded data removed]",
      "text/plain": [
       "<Figure size 432x288 with 1 Axes>"
      ]
     },
     "metadata": {
      "needs_background": "light"
     },
     "output_type": "display_data"
    }
   ],
   "source": [
    "import numpy as np\n",
    "import matplotlib.pyplot as plt\n",
    "from math import *\n",
    "def conv_m(x,h):\n",
    " nx=len(x)\n",
    " nh=len(h)\n",
    " ny=nx+nh-1\n",
    " y=np.zeros(ny)#初始化\n",
    " for n in np.arange(ny):\n",
    "     y[n]=0\n",
    "     for m in np.arange(nh):\n",
    "         k=n-m+1\n",
    "         if k>=1 and k<=nx:\n",
    "             y[n]=y[n]+h[m]*x[k-1]#卷积\n",
    " plt.rcParams['font.sans-serif'] = ['SimHei']\n",
    " plt.rcParams['axes.unicode_minus'] = False\n",
    " plt.stem(y)\n",
    " plt.title('线性卷积')\n",
    " plt.xlabel('n')\n",
    " plt.ylabel('y')\n",
    " plt.show()\n",
    "conv_m(np.array([3,11,7,0,-11,4,2]),np.array([2,3,0,-5,2,1]))\n"
   ]
  },
  {
   "cell_type": "code",
   "execution_count": null,
   "id": "cc27dee9",
   "metadata": {},
   "outputs": [],
   "source": []
  }
 ],
 "metadata": {
  "kernelspec": {
   "display_name": "Python 3",
   "language": "python",
   "name": "python3"
  },
  "language_info": {
   "codemirror_mode": {
    "name": "ipython",
    "version": 3
   },
   "file_extension": ".py",
   "mimetype": "text/x-python",
   "name": "python",
   "nbconvert_exporter": "python",
   "pygments_lexer": "ipython3",
   "version": "3.8.8"
  }
 },
 "nbformat": 4,
 "nbformat_minor": 5
}
