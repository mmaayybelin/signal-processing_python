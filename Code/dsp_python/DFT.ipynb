{
 "cells": [
  {
   "cell_type": "markdown",
   "id": "c7b933b1",
   "metadata": {},
   "source": [
    "# DFT"
   ]
  },
  {
   "cell_type": "markdown",
   "id": "2ad51e1a",
   "metadata": {},
   "source": [
    "本程序中主要定义了三个函数：synthesis_matrix（）是用于构建信号，给定一系列振幅和频率，合成一个输入矩阵，dft（）和idft（）是根据DFT正逆变换的表达式对输入信号进行求值。"
   ]
  },
  {
   "cell_type": "code",
   "execution_count": 1,
   "id": "776a5f8f",
   "metadata": {},
   "outputs": [
    {
     "name": "stdout",
     "output_type": "stream",
     "text": [
      "[ 2.5+0.00000000e+00j -0.5+8.66025404e-01j -0.5+2.88675135e-01j\n",
      " -0.5-3.06161700e-16j -0.5-2.88675135e-01j -0.5-8.66025404e-01j]\n",
      "[ 0.41666667+0.00000000e+00j -0.08333333-1.44337567e-01j\n",
      " -0.08333333-4.81125224e-02j -0.08333333+5.10269500e-17j\n",
      " -0.08333333+4.81125224e-02j -0.08333333+1.44337567e-01j]\n"
     ]
    }
   ],
   "source": [
    "#libraries\n",
    "import matplotlib.pyplot as plt\n",
    "import numpy as np\n",
    "import math\n",
    "import numpy as np\n",
    "\n",
    "# Number of sample points\n",
    "N = 6\n",
    "# sample spacing\n",
    "T = 1.0 / 6.0\n",
    "x = np.linspace(0.0, N*T, N, endpoint=False)\n",
    "ys = x\n",
    "\n",
    "#build signal：Create a function to calculate the composite matrix M\n",
    "def synthesis_matrix(N):\n",
    "    ts = np.arange(N)/N\n",
    "    fs = np.arange(N)\n",
    "    args = np.outer(ts,fs)\n",
    "    M = np.exp(1j*2*math.pi*args)\n",
    "    return M\n",
    "\n",
    "#Define DFT positive transformation\n",
    "def dft(ys):\n",
    "    N = len(ys)\n",
    "    M = synthesis_matrix(N)\n",
    "    amps = M.conj().transpose().dot(ys)#Calculate the weighted sum of frequency elements\n",
    "    return amps\n",
    "\n",
    "#Define inverse DFT transform\n",
    "def idft(ys):\n",
    "    N = len(ys)\n",
    "    M = synthesis_matrix(N)\n",
    "    amps = M.dot(ys)/N\n",
    "    return amps\n",
    "\n",
    "print(dft(ys))\n",
    "print(idft(ys))\n"
   ]
  },
  {
   "cell_type": "code",
   "execution_count": null,
   "id": "55939cfa",
   "metadata": {},
   "outputs": [],
   "source": []
  }
 ],
 "metadata": {
  "kernelspec": {
   "display_name": "Python 3",
   "language": "python",
   "name": "python3"
  },
  "language_info": {
   "codemirror_mode": {
    "name": "ipython",
    "version": 3
   },
   "file_extension": ".py",
   "mimetype": "text/x-python",
   "name": "python",
   "nbconvert_exporter": "python",
   "pygments_lexer": "ipython3",
   "version": "3.8.8"
  }
 },
 "nbformat": 4,
 "nbformat_minor": 5
}
