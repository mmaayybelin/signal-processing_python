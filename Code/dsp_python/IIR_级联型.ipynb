{
 "cells": [
  {
   "cell_type": "markdown",
   "id": "2b7bddde",
   "metadata": {},
   "source": [
    "# IIR滤波器结构：级联型"
   ]
  },
  {
   "cell_type": "code",
   "execution_count": 1,
   "id": "137c30fd",
   "metadata": {},
   "outputs": [
    {
     "data": {
      "image/png": "[encoded data removed]",
      "text/plain": [
       "<Figure size 432x288 with 2 Axes>"
      ]
     },
     "metadata": {
      "needs_background": "light"
     },
     "output_type": "display_data"
    }
   ],
   "source": [
    "#libraries\n",
    "import numpy as np\n",
    "import matplotlib.pyplot as plt\n",
    "from scipy import signal\n",
    "\n",
    "#parameters of defference equation\n",
    "A = 3;b = np.array([[1,1,0],[1,-3.14,1]]) #numerator\n",
    "a = np.array([[1,-0.6,0],[1,0.7,0.72]]) #denominator\n",
    "\n",
    "#input signal\n",
    "M = a.shape[0];N = 30\n",
    "delta = signal.unit_impulse(N) #unit sample signal\n",
    "y = np.ones(N) #unit step signal\n",
    "\n",
    "#IIR casfilter\n",
    "z1 = np.zeros((M+1,N));z2 = np.zeros((M+1,N));\n",
    "z1[0,:] = delta;z2[0,:] = y; \n",
    "for i in range(M): #循环滤波，计算最终结果\n",
    "    zi = signal.lfilter_zi(b[i,:],a[i,:])*0 #zero initial condition\n",
    "    z1[i+1,:],_ = signal.lfilter(b[i,:],a[i,:],z1[i,:],zi=zi);\n",
    "    z2[i+1,:],_ = signal.lfilter(b[i,:],a[i,:],z2[i,:],zi=zi);\n",
    "\n",
    "#plot\n",
    "fig,axs = plt.subplots(2,1,constrained_layout=True)\n",
    "axs[0].stem(A*z1[M,:],basefmt=\"\");axs[1].stem(A*z2[M,:],basefmt=\"\")\n",
    "plt.rcParams['font.sans-serif']=['SimHei'] #用来正常显示中文标签\n",
    "plt.rcParams['axes.unicode_minus'] = False #用来显示负号\n",
    "axs[0].set_title('IIR级联型h(n)');axs[1].set_title('IIR级联型y(n)')\n",
    "plt.show();fig.savefig('./iir_cas_sequence.png',dpi=500)\n"
   ]
  },
  {
   "cell_type": "code",
   "execution_count": null,
   "id": "37d2f44a",
   "metadata": {},
   "outputs": [],
   "source": []
  }
 ],
 "metadata": {
  "kernelspec": {
   "display_name": "Python 3",
   "language": "python",
   "name": "python3"
  },
  "language_info": {
   "codemirror_mode": {
    "name": "ipython",
    "version": 3
   },
   "file_extension": ".py",
   "mimetype": "text/x-python",
   "name": "python",
   "nbconvert_exporter": "python",
   "pygments_lexer": "ipython3",
   "version": "3.8.8"
  }
 },
 "nbformat": 4,
 "nbformat_minor": 5
}
